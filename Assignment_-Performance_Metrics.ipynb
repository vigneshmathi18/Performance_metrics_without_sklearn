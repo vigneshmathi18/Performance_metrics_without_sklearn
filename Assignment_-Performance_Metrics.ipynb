{
 "cells": [
  {
   "cell_type": "markdown",
   "id": "3df98266",
   "metadata": {},
   "source": [
    "# Compute performance metrics for the given Y and Y_score without sklearn"
   ]
  },
  {
   "cell_type": "code",
   "execution_count": 1,
   "id": "4a6ef1b1",
   "metadata": {},
   "outputs": [],
   "source": [
    "import numpy as np\n",
    "import pandas as pd"
   ]
  },
  {
   "cell_type": "markdown",
   "id": "e449c03f",
   "metadata": {},
   "source": [
    "\n",
    "## A. Compute performance metrics for the given data '5_a.csv'\n",
    " <pre>  <b>Note 1:</b> in this data you can see number of positive points >> number of negatives points\n",
    "   <b>Note 2:</b> use pandas or numpy to read the data from <b>5_a.csv</b>\n",
    "   <b>Note 3:</b> you need to derive the class labels from given score</pre> $y^{pred}= \\text{[0 if y_score < 0.5 else 1]}$\n",
    "\n",
    "<pre>\n",
    "<ol>\n",
    "<li> Compute Confusion Matrix </li>\n",
    "<li> Compute F1 Score </li>\n",
    "<li> Compute AUC Score, you need to compute different thresholds and for each threshold compute tpr,fpr and then use               numpy.trapz(tpr_array, fpr_array) <a href='https://stackoverflow.com/q/53603376/4084039'>https://stackoverflow.com/q/53603376/4084039</a>, <a href='https://stackoverflow.com/a/39678975/4084039'>https://stackoverflow.com/a/39678975/4084039</a> Note: it should be numpy.trapz(tpr_array, fpr_array) not numpy.trapz(fpr_array, tpr_array)\n",
    "Note- Make sure that you arrange your probability scores in descending order while calculating AUC</li>\n",
    "<li> Compute Accuracy Score </li>\n",
    "</ol>\n",
    "</pre>"
   ]
  },
  {
   "cell_type": "code",
   "execution_count": 2,
   "id": "6ec150f0",
   "metadata": {},
   "outputs": [
    {
     "data": {
      "text/html": [
       "<div>\n",
       "<style scoped>\n",
       "    .dataframe tbody tr th:only-of-type {\n",
       "        vertical-align: middle;\n",
       "    }\n",
       "\n",
       "    .dataframe tbody tr th {\n",
       "        vertical-align: top;\n",
       "    }\n",
       "\n",
       "    .dataframe thead th {\n",
       "        text-align: right;\n",
       "    }\n",
       "</style>\n",
       "<table border=\"1\" class=\"dataframe\">\n",
       "  <thead>\n",
       "    <tr style=\"text-align: right;\">\n",
       "      <th></th>\n",
       "      <th>y</th>\n",
       "      <th>proba</th>\n",
       "    </tr>\n",
       "  </thead>\n",
       "  <tbody>\n",
       "    <tr>\n",
       "      <th>0</th>\n",
       "      <td>1.0</td>\n",
       "      <td>0.637387</td>\n",
       "    </tr>\n",
       "    <tr>\n",
       "      <th>1</th>\n",
       "      <td>1.0</td>\n",
       "      <td>0.635165</td>\n",
       "    </tr>\n",
       "    <tr>\n",
       "      <th>2</th>\n",
       "      <td>1.0</td>\n",
       "      <td>0.766586</td>\n",
       "    </tr>\n",
       "    <tr>\n",
       "      <th>3</th>\n",
       "      <td>1.0</td>\n",
       "      <td>0.724564</td>\n",
       "    </tr>\n",
       "    <tr>\n",
       "      <th>4</th>\n",
       "      <td>1.0</td>\n",
       "      <td>0.889199</td>\n",
       "    </tr>\n",
       "  </tbody>\n",
       "</table>\n",
       "</div>"
      ],
      "text/plain": [
       "     y     proba\n",
       "0  1.0  0.637387\n",
       "1  1.0  0.635165\n",
       "2  1.0  0.766586\n",
       "3  1.0  0.724564\n",
       "4  1.0  0.889199"
      ]
     },
     "execution_count": 2,
     "metadata": {},
     "output_type": "execute_result"
    }
   ],
   "source": [
    "df=pd.read_csv('5_a.csv')\n",
    "df.head()"
   ]
  },
  {
   "cell_type": "code",
   "execution_count": 14,
   "id": "26f307f1",
   "metadata": {},
   "outputs": [
    {
     "name": "stdout",
     "output_type": "stream",
     "text": [
      "Index(['y', 'proba', 'y_pred'], dtype='object')\n"
     ]
    }
   ],
   "source": [
    "y_pred=[]\n",
    "for i in range(len(df)):\n",
    "    if df.proba[i]>0.5:\n",
    "        y_pred.append(1)\n",
    "    else:\n",
    "        y_pred.append(0)\n",
    "df['y_pred']=y_pred\n",
    "print(df.columns)"
   ]
  },
  {
   "cell_type": "code",
   "execution_count": 28,
   "id": "5ca6a6f2",
   "metadata": {},
   "outputs": [],
   "source": [
    "#confusion Matrix\n",
    "def conf(df):\n",
    "    tn=0\n",
    "    fn=0\n",
    "    fp=0\n",
    "    tp=0\n",
    "    for i in range(len(df)):\n",
    "        if df.y[i]==0 and df.y_pred[i]==0:\n",
    "            tn+=1\n",
    "        if df.y[i]==1 and df.y_pred[i]==0:\n",
    "            fn+=1\n",
    "        if df.y[i]==0 and df.y_pred[i]==1:\n",
    "            fp+=1\n",
    "        if df.y[i]==1 and df.y_pred[i]==1:\n",
    "            tp+=1\n",
    "    confusion_dict={'tn':tn,'fn':fn,'fp':fp,'tp':tp}\n",
    "    return confusion_dict\n",
    "    print(confusion_dict)"
   ]
  },
  {
   "cell_type": "code",
   "execution_count": 29,
   "id": "eb9ad21a",
   "metadata": {},
   "outputs": [
    {
     "name": "stdout",
     "output_type": "stream",
     "text": [
      "{'tn': 0, 'fn': 0, 'fp': 100, 'tp': 10000}\n"
     ]
    }
   ],
   "source": [
    "a=conf(df)\n",
    "print(a)"
   ]
  },
  {
   "cell_type": "code",
   "execution_count": 30,
   "id": "4ab02ebc",
   "metadata": {},
   "outputs": [
    {
     "name": "stdout",
     "output_type": "stream",
     "text": [
      "The F1 score is  0.9950248756218906\n"
     ]
    }
   ],
   "source": [
    "precision=a['tp']/(a['tp']+a['fp'])\n",
    "recall=a['tp']/(a['tp']+a['fn'])\n",
    "f=2*(precision*recall)/(precision+recall)\n",
    "print(\"The F1 score is \",f)"
   ]
  },
  {
   "cell_type": "code",
   "execution_count": 31,
   "id": "075ea539",
   "metadata": {},
   "outputs": [
    {
     "name": "stdout",
     "output_type": "stream",
     "text": [
      "The Accuracy is  0.9900990099009901\n"
     ]
    }
   ],
   "source": [
    "Acc=(a['tp']+a['tn'])/(len(df))\n",
    "print(\"The Accuracy is \",Acc)"
   ]
  },
  {
   "cell_type": "code",
   "execution_count": 27,
   "id": "08e72a97",
   "metadata": {},
   "outputs": [
    {
     "data": {
      "text/plain": [
       "Index(['y', 'proba', 'y_pred'], dtype='object')"
      ]
     },
     "execution_count": 27,
     "metadata": {},
     "output_type": "execute_result"
    }
   ],
   "source": [
    "df.columns"
   ]
  },
  {
   "cell_type": "code",
   "execution_count": 48,
   "id": "2fac38f9",
   "metadata": {},
   "outputs": [],
   "source": [
    "df=df.sort_values(by='proba',ascending=False)\n",
    "def pr(df,threshold):\n",
    "    y_p=[]\n",
    "    for i in range(len(df)):\n",
    "        if df.proba[i] > threshold:\n",
    "            y_p.append(1)\n",
    "        else:\n",
    "            y_p.append(0)\n",
    "    tn=0\n",
    "    fn=0\n",
    "    fp=0\n",
    "    tp=0\n",
    "    for i in range(len(df)):\n",
    "        if df.y[i]==0 and y_p[i]==0:\n",
    "            tn+=1\n",
    "        if df.y[i]==1 and y_p[i]==0:\n",
    "            fn+=1\n",
    "        if df.y[i]==0 and y_p[i]==1:\n",
    "            fp+=1\n",
    "        if df.y[i]==1 and y_p[i]==1:\n",
    "            tp+=1\n",
    "    c_dict={'tn':tn,'fn':fn,'fp':fp,'tp':tp}\n",
    "    return c_dict\n",
    "\n",
    "def auc(df):\n",
    "    tpr=[]\n",
    "    fpr=[]\n",
    "    for i in df.proba:\n",
    "        c=pr(df,i)\n",
    "        tpr.append(c['tp']/(c['fn']+c['tp']))\n",
    "        fpr.append(c['fp']/(c['tn']+c['fp']))\n",
    "    print(np.trapz(tpr, fpr))\n",
    "    return np.trapz(tpr, fpr)\n",
    "        \n",
    "        \n",
    "        "
   ]
  },
  {
   "cell_type": "code",
   "execution_count": 49,
   "id": "eeb99ee6",
   "metadata": {},
   "outputs": [
    {
     "name": "stdout",
     "output_type": "stream",
     "text": [
      "0.48829900000000004\n"
     ]
    }
   ],
   "source": [
    "result=auc(df)"
   ]
  },
  {
   "cell_type": "markdown",
   "id": "0fdf2448",
   "metadata": {},
   "source": [
    "\n",
    "\n",
    "## B. Compute performance metrics for the given data '5_b.csv'\n",
    "<pre>\n",
    "   <b>Note 1:</b> in this data you can see number of positive points << number of negatives points\n",
    "   <b>Note 2:</b> use pandas or numpy to read the data from <b>5_b.csv</b>\n",
    "   <b>Note 3:</b> you need to derive the class labels from given score</pre> $y^{pred}= \\text{[0 if y_score < 0.5 else 1]}$\n",
    "\n",
    "<pre>\n",
    "<ol>\n",
    "<li> Compute Confusion Matrix </li>\n",
    "<li> Compute F1 Score </li>\n",
    "<li> Compute AUC Score, you need to compute different thresholds and for each threshold compute tpr,fpr and then use               numpy.trapz(tpr_array, fpr_array) <a href='https://stackoverflow.com/q/53603376/4084039'>https://stackoverflow.com/q/53603376/4084039</a>, <a href='https://stackoverflow.com/a/39678975/4084039'>https://stackoverflow.com/a/39678975/4084039</a>\n",
    "Note- Make sure that you arrange your probability scores in descending order while calculating AUC</li>\n",
    "<li> Compute Accuracy Score </li>\n",
    "</ol>\n",
    "</pre>"
   ]
  },
  {
   "cell_type": "code",
   "execution_count": 52,
   "id": "ee1bcc53",
   "metadata": {},
   "outputs": [
    {
     "name": "stdout",
     "output_type": "stream",
     "text": [
      "Index(['y', 'proba'], dtype='object')\n"
     ]
    }
   ],
   "source": [
    "df_b=pd.read_csv('5_b.csv')\n",
    "df_b.head()\n",
    "print(df_b.columns)"
   ]
  },
  {
   "cell_type": "code",
   "execution_count": 53,
   "id": "57534217",
   "metadata": {},
   "outputs": [
    {
     "name": "stdout",
     "output_type": "stream",
     "text": [
      "Index(['y', 'proba', 'y_pred'], dtype='object')\n",
      "{'tn': 9761, 'fn': 45, 'fp': 239, 'tp': 55}\n"
     ]
    }
   ],
   "source": [
    "y_pred_b=[]\n",
    "for i in range(len(df_b)):\n",
    "    if df_b.proba[i]>0.5:\n",
    "        y_pred_b.append(1)\n",
    "    else:\n",
    "        y_pred_b.append(0)\n",
    "df_b['y_pred']=y_pred_b\n",
    "print(df_b.columns)\n",
    "result=conf(df_b)\n",
    "print(result)"
   ]
  },
  {
   "cell_type": "code",
   "execution_count": 54,
   "id": "7f0eadd8",
   "metadata": {},
   "outputs": [
    {
     "name": "stdout",
     "output_type": "stream",
     "text": [
      "The F1 score is  0.2791878172588833\n"
     ]
    }
   ],
   "source": [
    "precision=result['tp']/(result['tp']+result['fp'])\n",
    "recall=result['tp']/(result['tp']+result['fn'])\n",
    "f_b=2*(precision*recall)/(precision+recall)\n",
    "print(\"The F1 score is \",f_b)"
   ]
  },
  {
   "cell_type": "code",
   "execution_count": 55,
   "id": "24bb3cd5",
   "metadata": {},
   "outputs": [
    {
     "name": "stdout",
     "output_type": "stream",
     "text": [
      "The Accuracy is  0.9718811881188119\n"
     ]
    }
   ],
   "source": [
    "Acc=(result['tp']+result['tn'])/(len(df_b))\n",
    "print(\"The Accuracy is \",Acc)"
   ]
  },
  {
   "cell_type": "code",
   "execution_count": 56,
   "id": "63056312",
   "metadata": {},
   "outputs": [],
   "source": [
    "df_b=df_b.sort_values(by='proba',ascending=False)\n",
    "def pr(df_b,threshold):\n",
    "    y_p=[]\n",
    "    for i in range(len(df_b)):\n",
    "        if df_b.proba[i] > threshold:\n",
    "            y_p.append(1)\n",
    "        else:\n",
    "            y_p.append(0)\n",
    "    tn=0\n",
    "    fn=0\n",
    "    fp=0\n",
    "    tp=0\n",
    "    for i in range(len(df)):\n",
    "        if df_b.y[i]==0 and y_p[i]==0:\n",
    "            tn+=1\n",
    "        if df_b.y[i]==1 and y_p[i]==0:\n",
    "            fn+=1\n",
    "        if df_b.y[i]==0 and y_p[i]==1:\n",
    "            fp+=1\n",
    "        if df_b.y[i]==1 and y_p[i]==1:\n",
    "            tp+=1\n",
    "    c_dict={'tn':tn,'fn':fn,'fp':fp,'tp':tp}\n",
    "    return c_dict\n",
    "\n",
    "def auc1(df_b):\n",
    "    tpr=[]\n",
    "    fpr=[]\n",
    "    for i in df_b.proba:\n",
    "        c=pr(df_b,i)\n",
    "        tpr.append(c['tp']/(c['fn']+c['tp']))\n",
    "        fpr.append(c['fp']/(c['tn']+c['fp']))\n",
    "    print(np.trapz(tpr, fpr))\n",
    "    return np.trapz(tpr, fpr)"
   ]
  },
  {
   "cell_type": "code",
   "execution_count": 57,
   "id": "8246253f",
   "metadata": {},
   "outputs": [
    {
     "name": "stdout",
     "output_type": "stream",
     "text": [
      "0.9376570000000001\n"
     ]
    }
   ],
   "source": [
    "result2=auc1(df_b)"
   ]
  },
  {
   "cell_type": "markdown",
   "id": "6d0b6f99",
   "metadata": {},
   "source": [
    "### C. Compute the best threshold (similarly to ROC curve computation) of probability which gives lowest values of metric <b>A</b> for the given data \n",
    "<br>\n",
    "\n",
    "you will be predicting label of a data points like this: $y^{pred}= \\text{[0 if y_score < threshold  else 1]}$\n",
    "\n",
    "$ A = 500 \\times \\text{number of false negative} + 100 \\times \\text{numebr of false positive}$\n",
    "\n",
    "<pre>\n",
    "   <b>Note 1:</b> in this data you can see number of negative points > number of positive points\n",
    "   <b>Note 2:</b> use pandas or numpy to read the data from <b>5_c.csv</b>\n",
    "</pre>"
   ]
  },
  {
   "cell_type": "code",
   "execution_count": 58,
   "id": "227da027",
   "metadata": {},
   "outputs": [
    {
     "data": {
      "text/html": [
       "<div>\n",
       "<style scoped>\n",
       "    .dataframe tbody tr th:only-of-type {\n",
       "        vertical-align: middle;\n",
       "    }\n",
       "\n",
       "    .dataframe tbody tr th {\n",
       "        vertical-align: top;\n",
       "    }\n",
       "\n",
       "    .dataframe thead th {\n",
       "        text-align: right;\n",
       "    }\n",
       "</style>\n",
       "<table border=\"1\" class=\"dataframe\">\n",
       "  <thead>\n",
       "    <tr style=\"text-align: right;\">\n",
       "      <th></th>\n",
       "      <th>y</th>\n",
       "      <th>prob</th>\n",
       "    </tr>\n",
       "  </thead>\n",
       "  <tbody>\n",
       "    <tr>\n",
       "      <th>0</th>\n",
       "      <td>0</td>\n",
       "      <td>0.458521</td>\n",
       "    </tr>\n",
       "    <tr>\n",
       "      <th>1</th>\n",
       "      <td>0</td>\n",
       "      <td>0.505037</td>\n",
       "    </tr>\n",
       "    <tr>\n",
       "      <th>2</th>\n",
       "      <td>0</td>\n",
       "      <td>0.418652</td>\n",
       "    </tr>\n",
       "    <tr>\n",
       "      <th>3</th>\n",
       "      <td>0</td>\n",
       "      <td>0.412057</td>\n",
       "    </tr>\n",
       "    <tr>\n",
       "      <th>4</th>\n",
       "      <td>0</td>\n",
       "      <td>0.375579</td>\n",
       "    </tr>\n",
       "  </tbody>\n",
       "</table>\n",
       "</div>"
      ],
      "text/plain": [
       "   y      prob\n",
       "0  0  0.458521\n",
       "1  0  0.505037\n",
       "2  0  0.418652\n",
       "3  0  0.412057\n",
       "4  0  0.375579"
      ]
     },
     "execution_count": 58,
     "metadata": {},
     "output_type": "execute_result"
    }
   ],
   "source": [
    "df_c=pd.read_csv('5_c.csv')\n",
    "df_c.head()"
   ]
  },
  {
   "cell_type": "code",
   "execution_count": 80,
   "id": "a34f28bc",
   "metadata": {},
   "outputs": [],
   "source": [
    "def pr(df_c,threshold):\n",
    "    y_p=[]\n",
    "    for j in range(len(df_c)):\n",
    "        if df_c.proba[j] > threshold:\n",
    "            y_p.append(1)\n",
    "        else:\n",
    "            y_p.append(0)\n",
    "    tn=0\n",
    "    fn=0\n",
    "    fp=0\n",
    "    tp=0\n",
    "    for i in range(len(df_c)):\n",
    "        if df_c.y[i]==0 and y_p[i]==0:\n",
    "            tn+=1\n",
    "        if df_c.y[i]==1 and y_p[i]==0:\n",
    "            fn+=1\n",
    "        if df_c.y[i]==0 and y_p[i]==1:\n",
    "            fp+=1\n",
    "        if df_c.y[i]==1 and y_p[i]==1:\n",
    "            tp+=1\n",
    "    c_dict={'tn':tn,'fn':fn,'fp':fp,'tp':tp}\n",
    "    return c_dict\n",
    "\n",
    "def roc(df_c):\n",
    "    m={}\n",
    "    for i in df_c.proba:\n",
    "        c=pr(df_c,i)\n",
    "        m.append(500*c['fn']+100*c['fp'])\n",
    "    return m\n",
    "        "
   ]
  },
  {
   "cell_type": "code",
   "execution_count": 82,
   "id": "d402cff0",
   "metadata": {},
   "outputs": [],
   "source": [
    "ans=roc(df_c)"
   ]
  },
  {
   "cell_type": "code",
   "execution_count": 85,
   "id": "c67d0d76",
   "metadata": {},
   "outputs": [],
   "source": [
    "prob=list(df_c['proba'])"
   ]
  },
  {
   "cell_type": "code",
   "execution_count": 88,
   "id": "3ee0c8d8",
   "metadata": {},
   "outputs": [],
   "source": [
    "final_dict={prob[i]:ans[i] for i in range(len(prob))}"
   ]
  },
  {
   "cell_type": "code",
   "execution_count": 93,
   "id": "35409d61",
   "metadata": {},
   "outputs": [],
   "source": [
    "v=min(final_dict.values())"
   ]
  },
  {
   "cell_type": "code",
   "execution_count": 95,
   "id": "2260942f",
   "metadata": {},
   "outputs": [
    {
     "name": "stdout",
     "output_type": "stream",
     "text": [
      "The probability which gives lowest value is  0.2298716443615991 141000\n"
     ]
    }
   ],
   "source": [
    "for key,value in final_dict.items():\n",
    "    if value == v:\n",
    "        print(\"The probability which gives lowest value is \",key ,value)"
   ]
  },
  {
   "cell_type": "markdown",
   "id": "d02848b8",
   "metadata": {},
   "source": [
    "\n",
    "## D.</b></font> Compute performance metrics(for regression) for the given data 5_d.csv\n",
    "<pre>    <b>Note 2:</b> use pandas or numpy to read the data from <b>5_d.csv</b>\n",
    "    <b>Note 1:</b> <b>5_d.csv</b> will having two columns Y and predicted_Y both are real valued features\n",
    "<ol>\n",
    "<li> Compute Mean Square Error </li>\n",
    "<li> Compute MAPE: https://www.youtube.com/watch?v=ly6ztgIkUxk</li>\n",
    "<li> Compute R^2 error: https://en.wikipedia.org/wiki/Coefficient_of_determination#Definitions </li>\n",
    "</ol>\n",
    "</pre>"
   ]
  },
  {
   "cell_type": "code",
   "execution_count": 96,
   "id": "50f972fd",
   "metadata": {},
   "outputs": [
    {
     "data": {
      "text/html": [
       "<div>\n",
       "<style scoped>\n",
       "    .dataframe tbody tr th:only-of-type {\n",
       "        vertical-align: middle;\n",
       "    }\n",
       "\n",
       "    .dataframe tbody tr th {\n",
       "        vertical-align: top;\n",
       "    }\n",
       "\n",
       "    .dataframe thead th {\n",
       "        text-align: right;\n",
       "    }\n",
       "</style>\n",
       "<table border=\"1\" class=\"dataframe\">\n",
       "  <thead>\n",
       "    <tr style=\"text-align: right;\">\n",
       "      <th></th>\n",
       "      <th>y</th>\n",
       "      <th>pred</th>\n",
       "    </tr>\n",
       "  </thead>\n",
       "  <tbody>\n",
       "    <tr>\n",
       "      <th>0</th>\n",
       "      <td>101.0</td>\n",
       "      <td>100.0</td>\n",
       "    </tr>\n",
       "    <tr>\n",
       "      <th>1</th>\n",
       "      <td>120.0</td>\n",
       "      <td>100.0</td>\n",
       "    </tr>\n",
       "    <tr>\n",
       "      <th>2</th>\n",
       "      <td>131.0</td>\n",
       "      <td>113.0</td>\n",
       "    </tr>\n",
       "    <tr>\n",
       "      <th>3</th>\n",
       "      <td>164.0</td>\n",
       "      <td>125.0</td>\n",
       "    </tr>\n",
       "    <tr>\n",
       "      <th>4</th>\n",
       "      <td>154.0</td>\n",
       "      <td>152.0</td>\n",
       "    </tr>\n",
       "  </tbody>\n",
       "</table>\n",
       "</div>"
      ],
      "text/plain": [
       "       y   pred\n",
       "0  101.0  100.0\n",
       "1  120.0  100.0\n",
       "2  131.0  113.0\n",
       "3  164.0  125.0\n",
       "4  154.0  152.0"
      ]
     },
     "execution_count": 96,
     "metadata": {},
     "output_type": "execute_result"
    }
   ],
   "source": [
    "df_d=pd.read_csv('5_d.csv')\n",
    "df_d.head()"
   ]
  },
  {
   "cell_type": "code",
   "execution_count": 100,
   "id": "2734168a",
   "metadata": {},
   "outputs": [],
   "source": [
    "l_d=len(df_d)\n",
    "def mse(df_d):\n",
    "    s=0\n",
    "    for i in range(l_d):\n",
    "        diff=df_d.y[i]-df_d.pred[i]\n",
    "        diff_s=(diff)**2\n",
    "        s+=diff_s\n",
    "    f=s/l_d\n",
    "    print(\" THe mean square error is \",f)"
   ]
  },
  {
   "cell_type": "code",
   "execution_count": 101,
   "id": "b1f155dd",
   "metadata": {},
   "outputs": [
    {
     "name": "stdout",
     "output_type": "stream",
     "text": [
      " THe mean square error is  177.16569974554707\n"
     ]
    }
   ],
   "source": [
    "mse(df_d)"
   ]
  },
  {
   "cell_type": "code",
   "execution_count": 120,
   "id": "e3ff1c84",
   "metadata": {},
   "outputs": [],
   "source": [
    "def mape(df_d):\n",
    "    s=0\n",
    "    for i in range(len(df_d)):\n",
    "        error=df_d.y[i]-df_d.pred[i]\n",
    "        s+=abs(error)\n",
    "    #print(s)\n",
    "    final=s/sum(df_d['y'])\n",
    "    print(\" The MAPE is \",final)"
   ]
  },
  {
   "cell_type": "code",
   "execution_count": 121,
   "id": "e36ec0f9",
   "metadata": {},
   "outputs": [
    {
     "name": "stdout",
     "output_type": "stream",
     "text": [
      " The MAPE is  0.1291202994009687\n"
     ]
    }
   ],
   "source": [
    "mape(df_d)"
   ]
  },
  {
   "cell_type": "code",
   "execution_count": 122,
   "id": "b2783639",
   "metadata": {},
   "outputs": [],
   "source": [
    "def r_sqaured(df_d):\n",
    "    s1=0\n",
    "    s2=0\n",
    "    m=df_d['y'].mean()\n",
    "    for i in range(len(df_d)):\n",
    "        s1+=(df_d.y[i]-df_d.pred[i])**2\n",
    "        s2+=(df_d.y[i]-m)**2\n",
    "    r_2=1-(s1/s2)\n",
    "    print(\"The R squared error is \",r_2)\n",
    "        "
   ]
  },
  {
   "cell_type": "code",
   "execution_count": 123,
   "id": "b7150ef8",
   "metadata": {},
   "outputs": [
    {
     "name": "stdout",
     "output_type": "stream",
     "text": [
      "The R squared error is  0.9563582786990964\n"
     ]
    }
   ],
   "source": [
    "r_sqaured(df_d)"
   ]
  },
  {
   "cell_type": "code",
   "execution_count": null,
   "id": "97c81368",
   "metadata": {},
   "outputs": [],
   "source": []
  }
 ],
 "metadata": {
  "kernelspec": {
   "display_name": "Python 3",
   "language": "python",
   "name": "python3"
  },
  "language_info": {
   "codemirror_mode": {
    "name": "ipython",
    "version": 3
   },
   "file_extension": ".py",
   "mimetype": "text/x-python",
   "name": "python",
   "nbconvert_exporter": "python",
   "pygments_lexer": "ipython3",
   "version": "3.8.8"
  }
 },
 "nbformat": 4,
 "nbformat_minor": 5
}
